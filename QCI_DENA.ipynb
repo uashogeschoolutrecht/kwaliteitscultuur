{
  "cells": [
    {
      "cell_type": "raw",
      "metadata": {},
      "source": [
        "---\n",
        "title: Kwaliteitscultuur\n",
        "format: gfm\n",
        "---"
      ],
      "id": "21345577"
    },
    {
      "cell_type": "markdown",
      "metadata": {},
      "source": [
        "# QCI\n",
        "#### Author: Jan T. (IR) en Team D&A\n"
      ],
      "id": "8f44bc9a"
    },
    {
      "cell_type": "code",
      "metadata": {},
      "source": [
        "#| echo: true\n",
        "###Load packages\n",
        "import pandas       as pd   #required for data wrangling\n",
        "import pingouin     as pg   #required for Cronbach's Alpha\n",
        "import numpy        as np   #required for NaN"
      ],
      "id": "306f9477",
      "execution_count": null,
      "outputs": []
    },
    {
      "cell_type": "code",
      "metadata": {},
      "source": [
        "#| echo: true\n",
        "#| label: Sample data\n",
        "#| tbl-cap: TABLE 1. Sample data.\n",
        "#| tbl-column: body\n",
        "\n",
        "### Load data\n",
        "# Use sample data because of unavailability of QCI data\n",
        "qcidata = pd.DataFrame({   'Vraag3': [3, 2, 2, 3, 2, 2, 3, 3, 6, 1],\n",
        "                            'Vraag4': [1, 1, 1, 2, 3, 3, 2, 3, 3, 3],\n",
        "                            'Vraag5': [1, 0, 2, 1, 2, 3, 3, 3, 2, 3],\n",
        "                            'Vraag6': [3, 2, 2, 3, 2, 2, 3, 3, 6, 1],\n",
        "                            'Vraag7': [1, 1, 1, 2, 3, 3, 2, 3, 3, 3],\n",
        "                            'Vraag8': [1, 1, 2, 1, 2, 3, 3, 3, 2, 3],\n",
        "                            'Vraag9': [1, 1, 2, 1, 2, 3, 3, 3, 2, 8]})\n",
        "(\n",
        "    qcidata.style # Needed to convert df.head() to kbl format\n",
        "    .hide(axis='index')\n",
        ")"
      ],
      "id": "Sample-data",
      "execution_count": null,
      "outputs": []
    },
    {
      "cell_type": "markdown",
      "metadata": {},
      "source": [
        "## Data cleaning\n",
        "Remove all values 0, 6, 7 and 8 (corresponding to some missing data type), since they will influence the outcome. In this case, the best method is to replace these values by 'NaN' (not a number). \n"
      ],
      "id": "a01a5ab5"
    },
    {
      "cell_type": "code",
      "metadata": {},
      "source": [
        "#| echo: true\n",
        "missing_numbers = [0,6,7,8]\n",
        "qcidata_clean = qcidata.replace(missing_numbers[0], np.NaN)"
      ],
      "id": "9d8e24b1",
      "execution_count": null,
      "outputs": []
    },
    {
      "cell_type": "markdown",
      "metadata": {},
      "source": [
        "## Interne consistentie\n",
        "Om interne consistentie per subschaal te meten is [Cronbach's Alpha](https://www.scribbr.nl/statistiek/cronbachs-alpha/) gebruikt, deze is geïnterpreteerd met gebruik van de volgende [bron](https://towardsdatascience.com/cronbachs-alpha-theory-and-application-in-python-d2915dd63586).\n",
        "\n",
        "### Definieer subschalen\n",
        "Elke subschaal bestaat uit een aantal vragen. Hier wordt voor elke subschaal gedefinieerd uit welke vragen deze bestaat, en welke subschalen er totaal zijn. \n"
      ],
      "id": "db6c409d"
    },
    {
      "cell_type": "code",
      "metadata": {},
      "source": [
        "#| echo: true\n",
        "# Definieer vragen per subschalen\n",
        "doeltreffendheid = ['Vraag3', 'Vraag4', 'Vraag5', 'Vraag6']\n",
        "affectiviteit = ['Vraag7', 'Vraag8', 'Vraag9']\n",
        "\n",
        "# Alle subschalen verzameld\n",
        "subschalen = [doeltreffendheid, affectiviteit]\n",
        "N_subschalen = len(subschalen)"
      ],
      "id": "b4f30e86",
      "execution_count": null,
      "outputs": []
    },
    {
      "cell_type": "code",
      "metadata": {},
      "source": [
        "#| echo: true\n",
        "# Definieer vragen per subschalen\n",
        "alphas = []\n",
        "for i in range(0,N_subschalen):\n",
        "    alpha = (pg.cronbach_alpha(data=qcidata[subschalen[i]]))[0]\n",
        "    alphas.append(alpha)\n",
        "print(f'Aplhas: {alphas}')"
      ],
      "id": "d63499ed",
      "execution_count": null,
      "outputs": []
    },
    {
      "cell_type": "code",
      "metadata": {},
      "source": [
        "#| echo: true\n",
        "alpha_threshold = 0.7\n",
        "#test"
      ],
      "id": "dc5e984a",
      "execution_count": null,
      "outputs": []
    },
    {
      "cell_type": "code",
      "metadata": {},
      "source": [
        "#| echo: true\n",
        "# Padanalyse test"
      ],
      "id": "c1622af0",
      "execution_count": null,
      "outputs": []
    }
  ],
  "metadata": {
    "kernelspec": {
      "display_name": "Python 3",
      "language": "python",
      "name": "python3"
    }
  },
  "nbformat": 4,
  "nbformat_minor": 5
}